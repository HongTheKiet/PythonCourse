{
 "cells": [
  {
   "cell_type": "code",
   "execution_count": 1,
   "id": "bed53093-8957-4916-8679-45d335160ed5",
   "metadata": {},
   "outputs": [
    {
     "name": "stdout",
     "output_type": "stream",
     "text": [
      "Hello World!\n"
     ]
    }
   ],
   "source": [
    "print (\"Hello World!\")"
   ]
  },
  {
   "cell_type": "code",
   "execution_count": 2,
   "id": "2591728a-267b-4e34-9c48-2b1d93218382",
   "metadata": {},
   "outputs": [
    {
     "name": "stdout",
     "output_type": "stream",
     "text": [
      "Hello, My name is Kiet. I am studying Python.\n"
     ]
    }
   ],
   "source": [
    "print (\"Hello, My name is Kiet. I am studying Python.\")"
   ]
  },
  {
   "cell_type": "code",
   "execution_count": null,
   "id": "614ca6cd-528d-4df1-b788-a1a83e67be32",
   "metadata": {},
   "outputs": [],
   "source": []
  }
 ],
 "metadata": {
  "kernelspec": {
   "display_name": "Python 3 (ipykernel)",
   "language": "python",
   "name": "python3"
  },
  "language_info": {
   "codemirror_mode": {
    "name": "ipython",
    "version": 3
   },
   "file_extension": ".py",
   "mimetype": "text/x-python",
   "name": "python",
   "nbconvert_exporter": "python",
   "pygments_lexer": "ipython3",
   "version": "3.11.4"
  }
 },
 "nbformat": 4,
 "nbformat_minor": 5
}
